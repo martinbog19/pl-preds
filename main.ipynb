{
 "cells": [
  {
   "cell_type": "code",
   "execution_count": 14,
   "id": "16b94a2d",
   "metadata": {},
   "outputs": [],
   "source": [
    "from ref import NAMES\n",
    "\n",
    "from helpers.scrape import scrape_standings\n",
    "import numpy as np"
   ]
  },
  {
   "cell_type": "code",
   "execution_count": 15,
   "id": "e7f90fe3",
   "metadata": {},
   "outputs": [
    {
     "name": "stderr",
     "output_type": "stream",
     "text": [
      "/Users/MB13693/Desktop/Perso/pl-preds/helpers/scrape.py:19: FutureWarning: Passing literal html to 'read_html' is deprecated and will be removed in a future version. To read from a literal string, wrap it in a 'StringIO' object.\n",
      "  standings = pd.read_html(str(table))[0]\n"
     ]
    }
   ],
   "source": [
    "standings = scrape_standings()"
   ]
  },
  {
   "cell_type": "code",
   "execution_count": 17,
   "id": "16d539ed",
   "metadata": {},
   "outputs": [],
   "source": [
    "import random\n",
    "\n",
    "for name in NAMES:\n",
    "\n",
    "    with open(f'predictions/{name.lower()}.txt', 'r') as f:\n",
    "        preds = [line.strip() for line in f.readlines()]\n",
    "\n",
    "    random.shuffle(preds)\n",
    "\n",
    "    standings[f'pred_{name.lower()}'] = preds\n",
    "\n",
    "    standings[f'diff_{name.lower()}'] = [np.abs(np.where(standings[f'pred_{name.lower()}'] == tm)[0][0] - idx) for tm, idx in zip(standings.actual, standings.index)]\n",
    "    standings[f'perf_{name.lower()}'] = (standings[f'diff_{name.lower()}'] == 0).astype(int)"
   ]
  },
  {
   "cell_type": "code",
   "execution_count": 18,
   "id": "bba4e0e9",
   "metadata": {},
   "outputs": [],
   "source": [
    "for name in ['martin', 'thomas', 'alexis'] :\n",
    "    standings[f'diff_{name}'] = [np.abs(np.where(standings[f'pred_{name}'] == tm)[0][0] - idx) for tm, idx in zip(standings.actual, standings.index)]\n",
    "    standings[f'perf_{name}'] = (standings[f'diff_{name}'] == 0).astype(int)"
   ]
  },
  {
   "cell_type": "code",
   "execution_count": 38,
   "id": "00568b1b",
   "metadata": {},
   "outputs": [],
   "source": [
    "total_diff = standings['diff_martin'].sum()\n",
    "total_perf = standings['perf_martin'].sum()"
   ]
  },
  {
   "cell_type": "code",
   "execution_count": 32,
   "id": "2d9477da",
   "metadata": {},
   "outputs": [],
   "source": [
    "worst = standings.sort_values('diff_martin')['actual'].values[-1]"
   ]
  },
  {
   "cell_type": "code",
   "execution_count": 33,
   "id": "70adc66b",
   "metadata": {},
   "outputs": [],
   "source": [
    "perfects = standings[standings['perf_martin'] == 1]"
   ]
  },
  {
   "cell_type": "code",
   "execution_count": 36,
   "id": "78c1a53c",
   "metadata": {},
   "outputs": [
    {
     "data": {
      "text/plain": [
       "\"Brentford, Nott'ham Forest\""
      ]
     },
     "execution_count": 36,
     "metadata": {},
     "output_type": "execute_result"
    }
   ],
   "source": [
    "', '.join(perfects['actual'].tolist())"
   ]
  },
  {
   "cell_type": "code",
   "execution_count": null,
   "id": "c9809846",
   "metadata": {},
   "outputs": [],
   "source": [
    "def plot(scores, files, sorted_names) :\n",
    "    \n",
    "    time = [datetime.strptime(file[8:18], '%Y-%m-%d') for file in files]\n",
    "\n",
    "    _, ax = plt.subplots(figsize = (18, 9), facecolor = 'black')\n",
    "\n",
    "    plt.gca().set_facecolor('black')\n",
    "    plt.plot(time, gaussian_filter1d(scores[:,0], 0.4), c = 'green', marker = 'o', linewidth = 5, markersize = 10, label = 'Alexis', zorder = 3 - np.where(np.array(sorted_names) == 'Alexis')[0][0])\n",
    "    plt.plot(time, gaussian_filter1d(scores[:,1], 0.4), c = 'red',   marker = 'o', linewidth = 5, markersize = 10, label = 'Martin', zorder = 3 - np.where(np.array(sorted_names) == 'Martin')[0][0])\n",
    "    plt.plot(time, gaussian_filter1d(scores[:,2], 0.4), c = 'blue',  marker = 'o', linewidth = 5, markersize = 10, label = 'Thomas', zorder = 3 - np.where(np.array(sorted_names) == 'Thomas')[0][0])\n",
    "    plt.plot(time, scores[:,0], c = 'green', linewidth = 1, alpha = 0.5, zorder = - np.where(np.array(sorted_names) == 'Alexis')[0][0])\n",
    "    plt.plot(time, scores[:,1], c = 'red',   linewidth = 1, alpha = 0.5, zorder = - np.where(np.array(sorted_names) == 'Martin')[0][0])\n",
    "    plt.plot(time, scores[:,2], c = 'blue',  linewidth = 1, alpha = 0.5, zorder = - np.where(np.array(sorted_names) == 'Thomas')[0][0])\n",
    "\n",
    "    plt.xticks(time, pd.Series(time).apply(lambda x: datetime.strftime(x, '%d %b')), color = 'white')\n",
    "    plt.yticks(np.arange(0, 120, 20), np.arange(0, 120, 20), color = 'white')\n",
    "    plt.ylabel('Score', size = 32, color = 'white')\n",
    "    plt.title('2023-24 PREMIER LEAGUE PREDICTIONS: scores over time', size = 36, color = 'white')\n",
    "\n",
    "    ax.tick_params(axis = 'both', labelsize = 24)\n",
    "    plt.grid(axis = 'y', color = 'white', linestyle = ':', alpha = 0.8)\n",
    "    plt.ylim([0, 120])\n",
    "\n",
    "    ax.spines['left'].set_color('white'); ax.spines['right'].set_color('white')\n",
    "    ax.spines['bottom'].set_color('white'); ax.spines['top'].set_color('white') \n",
    "\n",
    "    lgd = plt.legend(edgecolor = 'white', labelcolor = 'white', fontsize = 24, loc = 'lower right')\n",
    "    lgd.get_frame().set_facecolor('black')\n",
    "\n",
    "    path = f'plots/plot-{str(date.today())}.jpg'\n",
    "    plt.savefig(path, dpi = 400)\n",
    "    plt.close()\n",
    "\n",
    "    return path\n",
    "\n",
    "def emailResults(scores, path, prog, sorted_names, sorted_scores) :\n",
    "\n",
    "    # Create a MIMEMultipart object\n",
    "    msg = MIMEMultipart()\n",
    "\n",
    "    # Set the sender and recipient addresses\n",
    "    l = scores[-1,:]\n",
    "    leaders = list(np.array(names)[(np.argwhere(l == np.max(l)).flatten())])\n",
    "    mult = len(leaders) > 1\n",
    "    subject = 'PREMIER LEAGUE PREDICTIONS UPDATE: ' + f'{\" & \".join(leaders)} {mult*\"are\"}{(1 - mult) * \"is\"} leading the way with {np.max(l)} points !'\n",
    "    msg['Subject'] = subject\n",
    "\n",
    "    my_mail = 'martinbog19@gmail.com'\n",
    "    recipients = [my_mail, 'tbogaert19@gmail.com', 'alexis.bogaert2309@gmail.com']\n",
    "\n",
    "    # Create the email body as HTML\n",
    "    html = f\"\"\"\n",
    "    <html>\n",
    "    <body>\n",
    "    <p>Rhoya la mif,</p>\n",
    "    <p>Leaderboard after completion of {prog}% of the 2023-24 Premier League season:</p>\n",
    "    <p style=\"margin-left: 20px;\">1. {sorted_names[0]}:  {sorted_scores[0]} pts<br>\n",
    "    <p style=\"margin-left: 20px;\">2. {sorted_names[1]}:  {sorted_scores[1]} pts<br>\n",
    "    <p style=\"margin-left: 20px;\">3. {sorted_names[2]}:  {sorted_scores[2]} pts</p>\n",
    "    <p><img src=\"cid:image1\" alt=\"Image\"></p>\n",
    "    </body>\n",
    "    </html>\n",
    "    \"\"\"\n",
    "    msg.attach(MIMEText(html, 'html'))\n",
    "\n",
    "    # Read and attach the image\n",
    "    with open(path, 'rb') as img_file:\n",
    "        img = MIMEImage(img_file.read())\n",
    "        img.add_header('Content-ID', '<image1>')\n",
    "        msg.attach(img)\n",
    "\n",
    "    with open('key.txt', 'r') as k :\n",
    "        password = k.read()\n",
    "\n",
    "    # Set up the SMTP server and send the email\n",
    "    try:\n",
    "        server = smtplib.SMTP('smtp.gmail.com', 587)\n",
    "        server.starttls()\n",
    "        server.login(my_mail, password)\n",
    "        server.sendmail(my_mail, recipients, msg.as_string())\n",
    "        print('Email sent successfully!')\n",
    "    except Exception as e:\n",
    "        print('Error sending email: ', str(e))\n",
    "    finally:\n",
    "        server.quit()\n",
    "\n",
    "\n",
    "\n",
    "def main() :\n",
    "\n",
    "    prog = createScoresDf()\n",
    "    \n",
    "    files = sorted(os.listdir('results/'))\n",
    "    scores, perfects = np.zeros((len(files), 3)), np.zeros((len(files), 3))\n",
    "\n",
    "    for i, file in enumerate(files) :\n",
    "        for j, name in enumerate(names) :\n",
    "\n",
    "            score, perfect = getScorePerfects(name, 'results/' + file)\n",
    "            scores[i,j]   = score\n",
    "            perfects[i,j] = perfect\n",
    "    \n",
    "    current_scores = list(scores[-1,:])\n",
    "    combined = list(zip(names, current_scores))\n",
    "    sorted_combined = sorted(combined, key = lambda x: x[1], reverse = True)\n",
    "    sorted_names, sorted_scores = zip(*sorted_combined)\n",
    "\n",
    "    path = plot(scores, files, sorted_names)\n",
    "    emailResults(scores, path, prog, sorted_names, sorted_scores)\n",
    "\n",
    "\n",
    "if __name__ == '__main__' :\n"
   ]
  },
  {
   "cell_type": "code",
   "execution_count": 48,
   "id": "1fecf84c",
   "metadata": {},
   "outputs": [
    {
     "name": "stdout",
     "output_type": "stream",
     "text": [
      "Status: 201\n",
      "Response: {\"account_sid\": \"ACa7f0f17d7d08787859bb5db69b6f098a\", \"api_version\": \"2010-04-01\", \"body\": \"Salut c'est Martin\", \"date_created\": \"Mon, 11 Aug 2025 16:14:37 +0000\", \"date_sent\": null, \"date_updated\": \"Mon, 11 Aug 2025 16:14:37 +0000\", \"direction\": \"outbound-api\", \"error_code\": null, \"error_message\": null, \"from\": \"whatsapp:+14155238886\", \"messaging_service_sid\": null, \"num_media\": \"0\", \"num_segments\": \"1\", \"price\": null, \"price_unit\": null, \"sid\": \"SM0c85ef00ccec667accf1b3f135eac75b\", \"status\": \"queued\", \"subresource_uris\": {\"media\": \"/2010-04-01/Accounts/ACa7f0f17d7d08787859bb5db69b6f098a/Messages/SM0c85ef00ccec667accf1b3f135eac75b/Media.json\"}, \"to\": \"whatsapp:+41792925629\", \"uri\": \"/2010-04-01/Accounts/ACa7f0f17d7d08787859bb5db69b6f098a/Messages/SM0c85ef00ccec667accf1b3f135eac75b.json\"}\n"
     ]
    }
   ],
   "source": [
    "import os\n",
    "import requests\n",
    "\n",
    "account_sid = 'ACa7f0f17d7d08787859bb5db69b6f098a'\n",
    "auth_token = 'fb21f2284953b11329161ca22f6ce916'\n",
    "from_number = \"+14155238886\"\n",
    "to_number = \"+41792925629\"\n",
    "\n",
    "message = \"Salut c'est Martin\"\n",
    "\n",
    "url = f\"https://api.twilio.com/2010-04-01/Accounts/{account_sid}/Messages.json\"\n",
    "data = {\n",
    "    \"From\": f\"whatsapp:{from_number}\",\n",
    "    \"To\": f\"whatsapp:{to_number}\",\n",
    "    \"Body\": message,\n",
    "}\n",
    "\n",
    "response = requests.post(url, data=data, auth=(account_sid, auth_token))\n",
    "print(\"Status:\", response.status_code)\n",
    "print(\"Response:\", response.text)\n"
   ]
  },
  {
   "cell_type": "code",
   "execution_count": 49,
   "id": "23514f75",
   "metadata": {},
   "outputs": [
    {
     "name": "stdout",
     "output_type": "stream",
     "text": [
      "Hello there!\n"
     ]
    }
   ],
   "source": [
    "# Download the helper library from https://www.twilio.com/docs/python/install\n",
    "from twilio.rest import Client\n",
    "\n",
    "client = Client(account_sid, auth_token)\n",
    "\n",
    "message = client.messages.create(\n",
    "    body=\"Hello there!\",\n",
    "    from_=\"whatsapp:+14155238886\",\n",
    "    to=\"whatsapp:+18574520957\",\n",
    ")\n",
    "\n",
    "print(message.body)"
   ]
  },
  {
   "cell_type": "code",
   "execution_count": null,
   "id": "b5d0c5fd",
   "metadata": {},
   "outputs": [],
   "source": [
    "os.getenv()"
   ]
  }
 ],
 "metadata": {
  "kernelspec": {
   "display_name": "penv",
   "language": "python",
   "name": "python3"
  },
  "language_info": {
   "codemirror_mode": {
    "name": "ipython",
    "version": 3
   },
   "file_extension": ".py",
   "mimetype": "text/x-python",
   "name": "python",
   "nbconvert_exporter": "python",
   "pygments_lexer": "ipython3",
   "version": "3.9.20"
  }
 },
 "nbformat": 4,
 "nbformat_minor": 5
}
